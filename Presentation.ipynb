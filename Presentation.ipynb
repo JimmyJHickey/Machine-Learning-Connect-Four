{
 "cells": [
  {
   "cell_type": "markdown",
   "metadata": {
    "slideshow": {
     "slide_type": "slide"
    }
   },
   "source": [
    "# Training a Computer to Play Connect 4\n",
    "Ben Andrews & Jimmy Hickey\n"
   ]
  },
  {
   "cell_type": "markdown",
   "metadata": {
    "slideshow": {
     "slide_type": "slide"
    }
   },
   "source": [
    "# Connect 4\n",
    "![title](img/Connect4Board.png)\n",
    "https://studio.code.org/projects/applab/TLFZogscaPiUKUzLFfvzYQ/embed\n"
   ]
  },
  {
   "cell_type": "markdown",
   "metadata": {
    "slideshow": {
     "slide_type": "slide"
    }
   },
   "source": [
    "# Method\n",
    "Trained a network using supervised learning methods; thus, we needed to generate data."
   ]
  },
  {
   "cell_type": "markdown",
   "metadata": {
    "slideshow": {
     "slide_type": "fragment"
    }
   },
   "source": [
    "## Data Generation\n",
    "We implemented a minimax algorithm to play against a random player."
   ]
  },
  {
   "cell_type": "markdown",
   "metadata": {
    "slideshow": {
     "slide_type": "slide"
    }
   },
   "source": [
    "# MiniMax\n",
    "Minimax is a tree traversal algorithm used in game theory. Its goal is to minimize its possible loss and maximize its gains.\n",
    "\n"
   ]
  },
  {
   "cell_type": "markdown",
   "metadata": {
    "slideshow": {
     "slide_type": "fragment"
    }
   },
   "source": [
    "## Adding $\\alpha$-$\\beta$ Pruning to Minimax\n",
    "\n",
    "$\\alpha$-$\\beta$ pruning is an adversarial search algorithm that reduces the search space of a minimax tree by using optimization criteria. \n",
    "\n",
    "It stops searching a branch when the branch is determined to be certainly worse than what has been previously discovered."
   ]
  },
  {
   "cell_type": "markdown",
   "metadata": {
    "slideshow": {
     "slide_type": "slide"
    }
   },
   "source": [
    "# Minimax with Pruning Example\n",
    "http://inst.eecs.berkeley.edu/~cs61b/fa14/ta-materials/apps/ab_tree_practice/"
   ]
  },
  {
   "cell_type": "markdown",
   "metadata": {
    "slideshow": {
     "slide_type": "slide"
    }
   },
   "source": [
    "# Minimax in Connect 4\n",
    "\n",
    "Scores are generated based on how many doubles, triples, and wins exist on the board.\n",
    "\n",
    "* Doubles: 1 points\n",
    "* Triples: 100 points\n",
    "* Wins: 100,000 points\n",
    "* Opponent Wins: -100,000 points"
   ]
  },
  {
   "cell_type": "markdown",
   "metadata": {
    "slideshow": {
     "slide_type": "slide"
    }
   },
   "source": [
    "# Machine Learning vs. Minimax\n",
    "Machine Learning's overhead exists in the learning processes. After that it can run very quickly. Minimax has to perform its search every move, which takes a considerable amount of time.\n",
    "\n",
    "However, Minimax is guaranteed to make the most optimal move based on the state of the board; whereas the nerual network will only make the best move that it learned."
   ]
  },
  {
   "cell_type": "markdown",
   "metadata": {
    "slideshow": {
     "slide_type": "slide"
    }
   },
   "source": [
    "# Supervised Learning with SKLearn\n",
    "```python\n",
    "MLPClassifier(hidden_layer_sizes=(100,), alpha=0.0001, \n",
    "learning_rate='constant', max_iter=5000)\n",
    "```"
   ]
  },
  {
   "cell_type": "markdown",
   "metadata": {
    "slideshow": {
     "slide_type": "slide"
    }
   },
   "source": [
    "# Examples"
   ]
  },
  {
   "cell_type": "code",
   "execution_count": null,
   "metadata": {
    "collapsed": true,
    "slideshow": {
     "slide_type": "fragment"
    }
   },
   "outputs": [],
   "source": [
    "run src/game.py random random"
   ]
  },
  {
   "cell_type": "markdown",
   "metadata": {
    "slideshow": {
     "slide_type": "slide"
    }
   },
   "source": [
    "### Improvements\n",
    "* Edit MiniMax.\n",
    "* Use more data.\n",
    "* Train differently.\n",
    "* Train on perfect data. http://connect4.gamesolver.org/?pos="
   ]
  },
  {
   "cell_type": "markdown",
   "metadata": {
    "slideshow": {
     "slide_type": "slide"
    }
   },
   "source": [
    "# Sources\n",
    "https://github.com/JimmyJHickey/Physics-Club-Connect-Four\n",
    "\n",
    "https://github.com/erikackermann/Connect-Four\n",
    "\n",
    "http://blog.gamesolver.org/\n",
    "\n",
    "http://scikit-learn.org/stable/"
   ]
  }
 ],
 "metadata": {
  "celltoolbar": "Slideshow",
  "kernelspec": {
   "display_name": "Python 3",
   "language": "python",
   "name": "python3"
  },
  "language_info": {
   "codemirror_mode": {
    "name": "ipython",
    "version": 3
   },
   "file_extension": ".py",
   "mimetype": "text/x-python",
   "name": "python",
   "nbconvert_exporter": "python",
   "pygments_lexer": "ipython3",
   "version": "3.6.2"
  }
 },
 "nbformat": 4,
 "nbformat_minor": 2
}
